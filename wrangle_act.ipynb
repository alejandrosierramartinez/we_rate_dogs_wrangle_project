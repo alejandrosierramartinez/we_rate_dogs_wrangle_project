{
 "cells": [
  {
   "cell_type": "markdown",
   "metadata": {},
   "source": [
    "## Wrangle activity"
   ]
  },
  {
   "cell_type": "markdown",
   "metadata": {},
   "source": [
    "This jupyter notebook is to be complemented with the files wrangle_act.pdf and act_report.pdf where every step is documented in detail with the steps followed and the conclusions made."
   ]
  },
  {
   "cell_type": "code",
   "execution_count": 1,
   "metadata": {},
   "outputs": [],
   "source": [
    "# load packages\n",
    "import pandas as pd \n",
    "import numpy as np\n",
    "import matplotlib.pyplot as plt\n",
    "import seaborn as sb \n",
    "import requests\n",
    "import os\n",
    "import json\n",
    "import tweepy"
   ]
  },
  {
   "cell_type": "code",
   "execution_count": 2,
   "metadata": {},
   "outputs": [],
   "source": [
    "#read csv\n",
    "twitter_archive = pd.read_csv('twitter-archive-enhanced.csv')"
   ]
  },
  {
   "cell_type": "code",
   "execution_count": 3,
   "metadata": {},
   "outputs": [],
   "source": [
    "#download file from web\n",
    "url = 'https://d17h27t6h515a5.cloudfront.net/topher/2017/August/599fd2ad_image-predictions/image-predictions.tsv'\n",
    "\n",
    "if not os.path.exists(url.split('/')[-1]):\n",
    "    response = requests.get(url)\n",
    "\n",
    "    with open(os.path.join(url.split('/')[-1]), mode = 'wb') as file: #add encoding\n",
    "        file.write(response.content)"
   ]
  },
  {
   "cell_type": "code",
   "execution_count": 4,
   "metadata": {},
   "outputs": [],
   "source": [
    "image_predictions = pd.read_csv('image-predictions.tsv', sep='\\t')"
   ]
  },
  {
   "cell_type": "code",
   "execution_count": 45,
   "metadata": {},
   "outputs": [],
   "source": [
    "#twitter api information\n",
    "\n",
    "f=open('twitter_api_information.txt',\"r\")\n",
    "lines=f.readlines()\n",
    "consumer_key = lines[0]\n",
    "consumer_secret = lines[1]\n",
    "access_token = lines[2]\n",
    "access_secret = lines[3]\n",
    "f.close()"
   ]
  },
  {
   "cell_type": "code",
   "execution_count": 46,
   "metadata": {},
   "outputs": [],
   "source": [
    "auth = tweepy.OAuthHandler(consumer_key, consumer_secret)\n",
    "auth.set_access_token(access_token, access_secret)\n",
    "\n",
    "api = tweepy.API(auth, wait_on_rate_limit = True, wait_on_rate_limit_notify = True)\n",
    "#api = tweepy.API(auth)"
   ]
  },
  {
   "cell_type": "code",
   "execution_count": 47,
   "metadata": {},
   "outputs": [],
   "source": [
    "#read retweet and favorite from api by id\n",
    "if not os.path.exists('tweet_json.txt'):\n",
    "#create dictionary to build file\n",
    "    tweet_json = []\n",
    "    count = 0\n",
    "    for id in twitter_archive['tweet_id']:\n",
    "        try:\n",
    "            tweet = api.get_status(id, tweet_mode='extended')\n",
    "            retweet_count = tweet.retweet_count\n",
    "            favorite_count = tweet.favorite_count\n",
    "\n",
    "            # Append to list of dictionaries\n",
    "            tweet_json.append({'retweet_count': retweet_count,\n",
    "                                'favorite_count': favorite_count,\n",
    "                                'tweet_id': id})\n",
    "        except tweepy.error.TweepError:\n",
    "            count += 1\n",
    "            print(str(count) + ' ' + 'Missing id:' + ' ' + str(id))\n",
    "\n",
    "    #write twitter_df to a json file\n",
    "    with open('tweet_json.txt', 'w') as outfile:\n",
    "        json.dump(tweet_json, outfile)"
   ]
  },
  {
   "cell_type": "code",
   "execution_count": 7,
   "metadata": {},
   "outputs": [],
   "source": [
    "with open('tweet_json.txt') as json_file:\n",
    "    tweet_json = json.load(json_file)"
   ]
  },
  {
   "cell_type": "code",
   "execution_count": 8,
   "metadata": {},
   "outputs": [],
   "source": [
    "tweet_json = pd.DataFrame(tweet_json, columns = ['tweet_id', 'retweet_count', 'favorite_count'])"
   ]
  },
  {
   "cell_type": "code",
   "execution_count": 9,
   "metadata": {},
   "outputs": [
    {
     "name": "stdout",
     "output_type": "stream",
     "text": [
      "<class 'pandas.core.frame.DataFrame'>\n",
      "RangeIndex: 2356 entries, 0 to 2355\n",
      "Data columns (total 17 columns):\n",
      " #   Column                      Non-Null Count  Dtype  \n",
      "---  ------                      --------------  -----  \n",
      " 0   tweet_id                    2356 non-null   int64  \n",
      " 1   in_reply_to_status_id       78 non-null     float64\n",
      " 2   in_reply_to_user_id         78 non-null     float64\n",
      " 3   timestamp                   2356 non-null   object \n",
      " 4   source                      2356 non-null   object \n",
      " 5   text                        2356 non-null   object \n",
      " 6   retweeted_status_id         181 non-null    float64\n",
      " 7   retweeted_status_user_id    181 non-null    float64\n",
      " 8   retweeted_status_timestamp  181 non-null    object \n",
      " 9   expanded_urls               2297 non-null   object \n",
      " 10  rating_numerator            2356 non-null   int64  \n",
      " 11  rating_denominator          2356 non-null   int64  \n",
      " 12  name                        2356 non-null   object \n",
      " 13  doggo                       2356 non-null   object \n",
      " 14  floofer                     2356 non-null   object \n",
      " 15  pupper                      2356 non-null   object \n",
      " 16  puppo                       2356 non-null   object \n",
      "dtypes: float64(4), int64(3), object(10)\n",
      "memory usage: 313.0+ KB\n",
      "None\n",
      "           tweet_id  in_reply_to_status_id  in_reply_to_user_id  \\\n",
      "count  2.356000e+03           7.800000e+01         7.800000e+01   \n",
      "mean   7.427716e+17           7.455079e+17         2.014171e+16   \n",
      "std    6.856705e+16           7.582492e+16         1.252797e+17   \n",
      "min    6.660209e+17           6.658147e+17         1.185634e+07   \n",
      "25%    6.783989e+17           6.757419e+17         3.086374e+08   \n",
      "50%    7.196279e+17           7.038708e+17         4.196984e+09   \n",
      "75%    7.993373e+17           8.257804e+17         4.196984e+09   \n",
      "max    8.924206e+17           8.862664e+17         8.405479e+17   \n",
      "\n",
      "       retweeted_status_id  retweeted_status_user_id  rating_numerator  \\\n",
      "count         1.810000e+02              1.810000e+02       2356.000000   \n",
      "mean          7.720400e+17              1.241698e+16         13.126486   \n",
      "std           6.236928e+16              9.599254e+16         45.876648   \n",
      "min           6.661041e+17              7.832140e+05          0.000000   \n",
      "25%           7.186315e+17              4.196984e+09         10.000000   \n",
      "50%           7.804657e+17              4.196984e+09         11.000000   \n",
      "75%           8.203146e+17              4.196984e+09         12.000000   \n",
      "max           8.874740e+17              7.874618e+17       1776.000000   \n",
      "\n",
      "       rating_denominator  \n",
      "count         2356.000000  \n",
      "mean            10.455433  \n",
      "std              6.745237  \n",
      "min              0.000000  \n",
      "25%             10.000000  \n",
      "50%             10.000000  \n",
      "75%             10.000000  \n",
      "max            170.000000  \n",
      "                tweet_id  in_reply_to_status_id  in_reply_to_user_id  \\\n",
      "2244  667886921285246976                    NaN                  NaN   \n",
      "1041  743980027717509120                    NaN                  NaN   \n",
      "1509  691459709405118465                    NaN                  NaN   \n",
      "936   753375668877008896                    NaN                  NaN   \n",
      "2059  671186162933985280                    NaN                  NaN   \n",
      "960   751205363882532864                    NaN                  NaN   \n",
      "1634  684225744407494656           6.842229e+17         4.196984e+09   \n",
      "1079  739238157791694849                    NaN                  NaN   \n",
      "600   798673117451325440                    NaN                  NaN   \n",
      "1196  717047459982213120                    NaN                  NaN   \n",
      "1552  688916208532455424                    NaN                  NaN   \n",
      "450   818646164899774465                    NaN                  NaN   \n",
      "1527  690360449368465409                    NaN                  NaN   \n",
      "750   779123168116150273                    NaN                  NaN   \n",
      "620   796125600683540480                    NaN                  NaN   \n",
      "850   765719909049503744                    NaN                  NaN   \n",
      "1783  677673981332312066                    NaN                  NaN   \n",
      "860   763167063695355904                    NaN                  NaN   \n",
      "260   842892208864923648                    NaN                  NaN   \n",
      "21    887705289381826560                    NaN                  NaN   \n",
      "\n",
      "                      timestamp  \\\n",
      "2244  2015-11-21 02:07:05 +0000   \n",
      "1041  2016-06-18 01:33:55 +0000   \n",
      "1509  2016-01-25 03:16:56 +0000   \n",
      "936   2016-07-13 23:48:51 +0000   \n",
      "2059  2015-11-30 04:37:05 +0000   \n",
      "960   2016-07-08 00:04:50 +0000   \n",
      "1634  2016-01-05 04:11:44 +0000   \n",
      "1079  2016-06-04 23:31:25 +0000   \n",
      "600   2016-11-15 23:44:44 +0000   \n",
      "1196  2016-04-04 17:53:31 +0000   \n",
      "1552  2016-01-18 02:49:58 +0000   \n",
      "450   2017-01-10 02:30:30 +0000   \n",
      "1527  2016-01-22 02:28:52 +0000   \n",
      "750   2016-09-23 01:00:13 +0000   \n",
      "620   2016-11-08 23:01:49 +0000   \n",
      "850   2016-08-17 01:20:27 +0000   \n",
      "1783  2015-12-18 02:17:22 +0000   \n",
      "860   2016-08-10 00:16:21 +0000   \n",
      "260   2017-03-18 00:15:37 +0000   \n",
      "21    2017-07-19 16:06:48 +0000   \n",
      "\n",
      "                                                 source  \\\n",
      "2244  <a href=\"http://twitter.com/download/iphone\" r...   \n",
      "1041  <a href=\"http://twitter.com/download/iphone\" r...   \n",
      "1509  <a href=\"http://twitter.com/download/iphone\" r...   \n",
      "936   <a href=\"http://twitter.com/download/iphone\" r...   \n",
      "2059  <a href=\"http://twitter.com/download/iphone\" r...   \n",
      "960   <a href=\"http://twitter.com/download/iphone\" r...   \n",
      "1634  <a href=\"http://twitter.com/download/iphone\" r...   \n",
      "1079  <a href=\"http://twitter.com/download/iphone\" r...   \n",
      "600   <a href=\"http://twitter.com/download/iphone\" r...   \n",
      "1196  <a href=\"http://twitter.com/download/iphone\" r...   \n",
      "1552  <a href=\"http://twitter.com/download/iphone\" r...   \n",
      "450   <a href=\"http://twitter.com/download/iphone\" r...   \n",
      "1527  <a href=\"http://twitter.com/download/iphone\" r...   \n",
      "750   <a href=\"http://twitter.com/download/iphone\" r...   \n",
      "620   <a href=\"http://twitter.com/download/iphone\" r...   \n",
      "850   <a href=\"http://twitter.com/download/iphone\" r...   \n",
      "1783  <a href=\"http://twitter.com/download/iphone\" r...   \n",
      "860   <a href=\"http://twitter.com/download/iphone\" r...   \n",
      "260   <a href=\"http://twitter.com/download/iphone\" r...   \n",
      "21    <a href=\"http://twitter.com/download/iphone\" r...   \n",
      "\n",
      "                                                   text  retweeted_status_id  \\\n",
      "2244  This is Erik. He's fucken massive. But also ki...                  NaN   \n",
      "1041  This is Geno. He's a Wrinkled Baklavian Velvee...                  NaN   \n",
      "1509  Say hello to Leo. He's a Fallopian Puffalope. ...                  NaN   \n",
      "936   This is Hank. He's mischievous af. Doesn't eve...                  NaN   \n",
      "2059  This is Sparky. That's his pancake now. He wil...                  NaN   \n",
      "960   \"This photographer took pics of her best frien...                  NaN   \n",
      "1634  Two sneaky puppers were not initially seen, mo...                  NaN   \n",
      "1079  Here's a doggo blowing bubbles. It's downright...                  NaN   \n",
      "600   RT @dog_rates: I shall call him squishy and he...         6.755011e+17   \n",
      "1196  This is Flávio (pronounced Baxter). He's a Ben...                  NaN   \n",
      "1552  This pupper just wants to say hello. 11/10 wou...                  NaN   \n",
      "450   RT @dog_rates: This is Seamus. He's very bad a...         8.083449e+17   \n",
      "1527  Stop sending in lobsters. This is the final wa...                  NaN   \n",
      "750   This is Reggie. He hugs everyone he meets. 12/...                  NaN   \n",
      "620          #ImWithThor 13/10\\nhttps://t.co/a18mzkhTf6                  NaN   \n",
      "850   This is Brat. He has a hard time being ferocio...                  NaN   \n",
      "1783  Endangered triangular pup here. Could be a wiz...                  NaN   \n",
      "860   RT @dog_rates: Meet Eve. She's a raging alcoho...         6.732953e+17   \n",
      "260   RT @dog_rates: This is Stephan. He just wants ...         8.071068e+17   \n",
      "21    This is Jeffrey. He has a monopoly on the pool...                  NaN   \n",
      "\n",
      "      retweeted_status_user_id retweeted_status_timestamp  \\\n",
      "2244                       NaN                        NaN   \n",
      "1041                       NaN                        NaN   \n",
      "1509                       NaN                        NaN   \n",
      "936                        NaN                        NaN   \n",
      "2059                       NaN                        NaN   \n",
      "960                        NaN                        NaN   \n",
      "1634                       NaN                        NaN   \n",
      "1079                       NaN                        NaN   \n",
      "600               4.196984e+09  2015-12-12 02:23:01 +0000   \n",
      "1196                       NaN                        NaN   \n",
      "1552                       NaN                        NaN   \n",
      "450               4.196984e+09  2016-12-12 16:16:49 +0000   \n",
      "1527                       NaN                        NaN   \n",
      "750                        NaN                        NaN   \n",
      "620                        NaN                        NaN   \n",
      "850                        NaN                        NaN   \n",
      "1783                       NaN                        NaN   \n",
      "860               4.196984e+09  2015-12-06 00:17:55 +0000   \n",
      "260               4.196984e+09  2016-12-09 06:17:20 +0000   \n",
      "21                         NaN                        NaN   \n",
      "\n",
      "                                          expanded_urls  rating_numerator  \\\n",
      "2244  https://twitter.com/dog_rates/status/667886921...                11   \n",
      "1041  https://twitter.com/dog_rates/status/743980027...                11   \n",
      "1509  https://twitter.com/dog_rates/status/691459709...                12   \n",
      "936   https://twitter.com/dog_rates/status/753375668...                 8   \n",
      "2059  https://twitter.com/dog_rates/status/671186162...                10   \n",
      "960   https://twitter.com/dog_rates/status/751205363...                12   \n",
      "1634  https://twitter.com/dog_rates/status/684225744...               143   \n",
      "1079  https://twitter.com/dog_rates/status/739238157...                13   \n",
      "600   https://twitter.com/dog_rates/status/675501075...                13   \n",
      "1196  https://twitter.com/dog_rates/status/717047459...                12   \n",
      "1552  https://twitter.com/dog_rates/status/688916208...                11   \n",
      "450   https://vine.co/v/5QWd3LZqXxd,https://vine.co/...                11   \n",
      "1527  https://twitter.com/dog_rates/status/690360449...                 9   \n",
      "750   https://twitter.com/dog_rates/status/779123168...                12   \n",
      "620   https://twitter.com/king5seattle/status/796123...                13   \n",
      "850   https://twitter.com/dog_rates/status/765719909...                12   \n",
      "1783  https://twitter.com/dog_rates/status/677673981...                 9   \n",
      "860   https://twitter.com/dog_rates/status/673295268...                 8   \n",
      "260   https://twitter.com/dog_rates/status/807106840...                13   \n",
      "21    https://twitter.com/dog_rates/status/887705289...                13   \n",
      "\n",
      "      rating_denominator     name  doggo floofer  pupper puppo  \n",
      "2244                  10     Erik   None    None    None  None  \n",
      "1041                  10     Geno   None    None    None  None  \n",
      "1509                  10      Leo   None    None    None  None  \n",
      "936                   10     Hank   None    None    None  None  \n",
      "2059                  10   Sparky   None    None    None  None  \n",
      "960                   10     None   None    None    None  None  \n",
      "1634                 130     None   None    None    None  None  \n",
      "1079                  10     None  doggo    None    None  None  \n",
      "600                   10     None   None    None    None  None  \n",
      "1196                  10   Flávio   None    None    None  None  \n",
      "1552                  10     None   None    None  pupper  None  \n",
      "450                   10   Seamus   None    None    None  None  \n",
      "1527                  10      the   None    None    None  None  \n",
      "750                   10   Reggie   None    None    None  None  \n",
      "620                   10     None   None    None    None  None  \n",
      "850                   10     Brat   None    None    None  None  \n",
      "1783                  10     None   None    None    None  None  \n",
      "860                   10      Eve   None    None  pupper  None  \n",
      "260                   10  Stephan   None    None    None  None  \n",
      "21                    10  Jeffrey   None    None    None  None  \n"
     ]
    }
   ],
   "source": [
    "#Assess data\n",
    "#twitter archive\n",
    "print(twitter_archive.info())\n",
    "print(twitter_archive.describe())\n",
    "print(twitter_archive.sample(20))"
   ]
  },
  {
   "cell_type": "code",
   "execution_count": 10,
   "metadata": {},
   "outputs": [
    {
     "name": "stdout",
     "output_type": "stream",
     "text": [
      "<class 'pandas.core.frame.DataFrame'>\n",
      "RangeIndex: 2075 entries, 0 to 2074\n",
      "Data columns (total 12 columns):\n",
      " #   Column    Non-Null Count  Dtype  \n",
      "---  ------    --------------  -----  \n",
      " 0   tweet_id  2075 non-null   int64  \n",
      " 1   jpg_url   2075 non-null   object \n",
      " 2   img_num   2075 non-null   int64  \n",
      " 3   p1        2075 non-null   object \n",
      " 4   p1_conf   2075 non-null   float64\n",
      " 5   p1_dog    2075 non-null   bool   \n",
      " 6   p2        2075 non-null   object \n",
      " 7   p2_conf   2075 non-null   float64\n",
      " 8   p2_dog    2075 non-null   bool   \n",
      " 9   p3        2075 non-null   object \n",
      " 10  p3_conf   2075 non-null   float64\n",
      " 11  p3_dog    2075 non-null   bool   \n",
      "dtypes: bool(3), float64(3), int64(2), object(4)\n",
      "memory usage: 152.1+ KB\n",
      "None\n",
      "           tweet_id      img_num      p1_conf       p2_conf       p3_conf\n",
      "count  2.075000e+03  2075.000000  2075.000000  2.075000e+03  2.075000e+03\n",
      "mean   7.384514e+17     1.203855     0.594548  1.345886e-01  6.032417e-02\n",
      "std    6.785203e+16     0.561875     0.271174  1.006657e-01  5.090593e-02\n",
      "min    6.660209e+17     1.000000     0.044333  1.011300e-08  1.740170e-10\n",
      "25%    6.764835e+17     1.000000     0.364412  5.388625e-02  1.622240e-02\n",
      "50%    7.119988e+17     1.000000     0.588230  1.181810e-01  4.944380e-02\n",
      "75%    7.932034e+17     1.000000     0.843855  1.955655e-01  9.180755e-02\n",
      "max    8.924206e+17     4.000000     1.000000  4.880140e-01  2.734190e-01\n",
      "                tweet_id                                            jpg_url  \\\n",
      "865   697463031882764288    https://pbs.twimg.com/media/Ca3i7CzXIAMLhg8.jpg   \n",
      "1094  719991154352222208    https://pbs.twimg.com/media/Cf3sH62VAAA-LiP.jpg   \n",
      "2014  879415818425184262  https://pbs.twimg.com/ext_tw_video_thumb/87941...   \n",
      "57    667073648344346624    https://pbs.twimg.com/media/CUHr8WbWEAEBPgf.jpg   \n",
      "1847  839290600511926273    https://pbs.twimg.com/media/C6XBt9XXEAEEW9U.jpg   \n",
      "1893  849412302885593088    https://pbs.twimg.com/media/C8m3-iQVoAAETnF.jpg   \n",
      "1219  743895849529389061    https://pbs.twimg.com/media/ClLZU8LWQAAsOxV.jpg   \n",
      "1019  710140971284037632    https://pbs.twimg.com/media/Cdrtcr-W4AAqi5H.jpg   \n",
      "585   678991772295516161    https://pbs.twimg.com/media/CWxDaXHWsAAWV8W.jpg   \n",
      "2005  877556246731214848    https://pbs.twimg.com/media/DC20wEcW0AAf59m.jpg   \n",
      "558   677698403548192770    https://pbs.twimg.com/media/CWerGmOXAAAm6NY.jpg   \n",
      "1242  747204161125646336    https://pbs.twimg.com/media/Cl6aOBhWEAALuti.jpg   \n",
      "921   701981390485725185    https://pbs.twimg.com/media/Cb3wWWbWEAAy06k.jpg   \n",
      "1078  717790033953034240    https://pbs.twimg.com/media/CfYaOeMWQAAGfyP.jpg   \n",
      "1611  801285448605831168    https://pbs.twimg.com/media/Cx683NPUAAAjyU4.jpg   \n",
      "1837  837366284874571778    https://pbs.twimg.com/media/C57sMJwXMAASBSx.jpg   \n",
      "1398  768473857036525572    https://pbs.twimg.com/media/Cqoq5PGWAAA-U8T.jpg   \n",
      "368   672968025906282496    https://pbs.twimg.com/media/CVbc2V2WsAE3-kn.jpg   \n",
      "495   675740360753160193  https://pbs.twimg.com/ext_tw_video_thumb/67574...   \n",
      "1830  836260088725786625    https://pbs.twimg.com/media/C5r-G2IUwAA6KBY.jpg   \n",
      "\n",
      "      img_num                              p1   p1_conf  p1_dog  \\\n",
      "865         1              Labrador_retriever  0.999885    True   \n",
      "1094        2                golden_retriever  0.605304    True   \n",
      "2014        1                English_springer  0.383404    True   \n",
      "57          1                       Chihuahua  0.483682    True   \n",
      "1847        1                        web_site  0.670892   False   \n",
      "1893        4                      schipperke  0.907559    True   \n",
      "1219        1                       dalmatian  0.562315    True   \n",
      "1019        1                        Pekinese  0.953170    True   \n",
      "585         1                      Eskimo_dog  0.330216    True   \n",
      "2005        1                          basset  0.995368    True   \n",
      "558         1                        Shih-Tzu  0.916645    True   \n",
      "1242        2                            coil  0.533699   False   \n",
      "921         1                      Pomeranian  0.491022    True   \n",
      "1078        1                      car_mirror  0.819106   False   \n",
      "1611        1                         minivan  0.789376   False   \n",
      "1837        1  American_Staffordshire_terrier  0.660085    True   \n",
      "1398        1              Labrador_retriever  0.739170    True   \n",
      "368         1                      toy_poodle  0.678046    True   \n",
      "495         1                golden_retriever  0.800495    True   \n",
      "1830        1                          borzoi  0.564688    True   \n",
      "\n",
      "                             p2   p2_conf  p2_dog  \\\n",
      "865            golden_retriever  0.000098    True   \n",
      "1094             cocker_spaniel  0.130948    True   \n",
      "2014                Boston_bull  0.134967    True   \n",
      "57                          pug  0.092494    True   \n",
      "1847                    monitor  0.101565   False   \n",
      "1893           crossword_puzzle  0.017934   False   \n",
      "1219                 Great_Dane  0.416478    True   \n",
      "1019                   papillon  0.019517    True   \n",
      "585              Siberian_husky  0.187003    True   \n",
      "2005     Welsh_springer_spaniel  0.001936    True   \n",
      "558                       Lhasa  0.057883    True   \n",
      "1242                     dugong  0.087959   False   \n",
      "921                      weasel  0.130879   False   \n",
      "1078                    minibus  0.107383   False   \n",
      "1611                beach_wagon  0.081125   False   \n",
      "1837  Staffordshire_bullterrier  0.334947    True   \n",
      "1398   Chesapeake_Bay_retriever  0.246488    True   \n",
      "368            miniature_poodle  0.160273    True   \n",
      "495                      kuvasz  0.097756    True   \n",
      "1830                   ice_bear  0.078267   False   \n",
      "\n",
      "                               p3   p3_conf  p3_dog  \n",
      "865                           pug  0.000008    True  \n",
      "1094           Labrador_retriever  0.094692    True  \n",
      "2014                     Cardigan  0.110481    True  \n",
      "57              Brabancon_griffon  0.057495    True  \n",
      "1847                       screen  0.075306   False  \n",
      "1893                    Chihuahua  0.016191    True  \n",
      "1219  German_short-haired_pointer  0.008552    True  \n",
      "1019             Japanese_spaniel  0.005821    True  \n",
      "585                     Chihuahua  0.101420    True  \n",
      "2005                      bathtub  0.000468   False  \n",
      "558                      Pekinese  0.020126    True  \n",
      "1242                  rain_barrel  0.039221   False  \n",
      "921             Yorkshire_terrier  0.099241    True  \n",
      "1078                          cab  0.034846   False  \n",
      "1611                  convertible  0.064534   False  \n",
      "1837                    dalmatian  0.002697    True  \n",
      "1398                       kelpie  0.006892    True  \n",
      "368                      Airedale  0.065649    True  \n",
      "495                        Saluki  0.068415    True  \n",
      "1830                     Pembroke  0.057916    True  \n"
     ]
    }
   ],
   "source": [
    "#image predictions\n",
    "print(image_predictions.info())\n",
    "print(image_predictions.describe())\n",
    "print(image_predictions.sample(20))"
   ]
  },
  {
   "cell_type": "code",
   "execution_count": 11,
   "metadata": {},
   "outputs": [
    {
     "name": "stdout",
     "output_type": "stream",
     "text": [
      "<class 'pandas.core.frame.DataFrame'>\n",
      "RangeIndex: 1813 entries, 0 to 1812\n",
      "Data columns (total 3 columns):\n",
      " #   Column          Non-Null Count  Dtype\n",
      "---  ------          --------------  -----\n",
      " 0   tweet_id        1813 non-null   int64\n",
      " 1   retweet_count   1813 non-null   int64\n",
      " 2   favorite_count  1813 non-null   int64\n",
      "dtypes: int64(3)\n",
      "memory usage: 42.6 KB\n",
      "None\n",
      "           tweet_id  retweet_count  favorite_count\n",
      "count  1.813000e+03    1813.000000     1813.000000\n",
      "mean   7.454719e+17    2566.659680     7639.616106\n",
      "std    7.016702e+16    4387.271444    11812.643311\n",
      "min    6.660209e+17       1.000000        0.000000\n",
      "25%    6.859732e+17     503.000000     1124.000000\n",
      "50%    7.268282e+17    1163.000000     3293.000000\n",
      "75%    8.168290e+17    3017.000000     9484.000000\n",
      "max    8.924206e+17   75113.000000   152026.000000\n",
      "                tweet_id  retweet_count  favorite_count\n",
      "1205  696405997980676096           1117            3106\n",
      "1106  704134088924532736            440            1462\n",
      "1382  674063288070742018           2030            5993\n",
      "337   831322785565769729           1514            9122\n",
      "770   747219827526344708           1514            5123\n",
      "255   841680585030541313           7540           25084\n",
      "1267  691444869282295808            815            2559\n",
      "1524  671141549288370177            606            1082\n",
      "1020  710117014656950272           1897            5284\n",
      "545   775350846108426240           3833           10027\n",
      "179   856282028240666624           5846           26289\n",
      "104   871515927908634625           3114           18648\n",
      "1803  666058600524156928             51             103\n",
      "1127  702321140488925184           1009            3174\n",
      "1792  666287406224695296             57             131\n",
      "848   737445876994609152           4283            9926\n",
      "1431  673148804208660480            582            1594\n",
      "1536  670826280409919488           3750            5152\n",
      "882   730196704625098752           1805            4693\n",
      "1295  689835978131935233            723            2106\n"
     ]
    }
   ],
   "source": [
    "#tweet_json\n",
    "print(tweet_json.info())\n",
    "print(tweet_json.describe())\n",
    "print(tweet_json.sample(20))"
   ]
  },
  {
   "cell_type": "code",
   "execution_count": null,
   "metadata": {},
   "outputs": [],
   "source": [
    "#create a copy of the df to work on\n",
    "twitter_archive_new = twitter_archive.copy()\n",
    "image_predictions_new = image_predictions.copy()\n",
    "tweet_json_new = tweet_json.copy()"
   ]
  },
  {
   "cell_type": "code",
   "execution_count": 12,
   "metadata": {},
   "outputs": [],
   "source": [
    "#data cleaning\n",
    "# combine tables into a new one df where we perform cleaning operations\n",
    "master_clean = twitter_archive_new.merge(image_predictions_new, on='tweet_id', how='inner').merge(tweet_json_new, on='tweet_id', how='inner')"
   ]
  },
  {
   "cell_type": "code",
   "execution_count": 13,
   "metadata": {},
   "outputs": [
    {
     "name": "stdout",
     "output_type": "stream",
     "text": [
      "             tweet_id  in_reply_to_status_id  in_reply_to_user_id  \\\n",
      "0  892420643555336193                    NaN                  NaN   \n",
      "1  892177421306343426                    NaN                  NaN   \n",
      "2  891815181378084864                    NaN                  NaN   \n",
      "3  891689557279858688                    NaN                  NaN   \n",
      "4  891327558926688256                    NaN                  NaN   \n",
      "\n",
      "                   timestamp  \\\n",
      "0  2017-08-01 16:23:56 +0000   \n",
      "1  2017-08-01 00:17:27 +0000   \n",
      "2  2017-07-31 00:18:03 +0000   \n",
      "3  2017-07-30 15:58:51 +0000   \n",
      "4  2017-07-29 16:00:24 +0000   \n",
      "\n",
      "                                              source  \\\n",
      "0  <a href=\"http://twitter.com/download/iphone\" r...   \n",
      "1  <a href=\"http://twitter.com/download/iphone\" r...   \n",
      "2  <a href=\"http://twitter.com/download/iphone\" r...   \n",
      "3  <a href=\"http://twitter.com/download/iphone\" r...   \n",
      "4  <a href=\"http://twitter.com/download/iphone\" r...   \n",
      "\n",
      "                                                text  retweeted_status_id  \\\n",
      "0  This is Phineas. He's a mystical boy. Only eve...                  NaN   \n",
      "1  This is Tilly. She's just checking pup on you....                  NaN   \n",
      "2  This is Archie. He is a rare Norwegian Pouncin...                  NaN   \n",
      "3  This is Darla. She commenced a snooze mid meal...                  NaN   \n",
      "4  This is Franklin. He would like you to stop ca...                  NaN   \n",
      "\n",
      "   retweeted_status_user_id retweeted_status_timestamp  \\\n",
      "0                       NaN                        NaN   \n",
      "1                       NaN                        NaN   \n",
      "2                       NaN                        NaN   \n",
      "3                       NaN                        NaN   \n",
      "4                       NaN                        NaN   \n",
      "\n",
      "                                       expanded_urls  ...   p1_conf  p1_dog  \\\n",
      "0  https://twitter.com/dog_rates/status/892420643...  ...  0.097049   False   \n",
      "1  https://twitter.com/dog_rates/status/892177421...  ...  0.323581    True   \n",
      "2  https://twitter.com/dog_rates/status/891815181...  ...  0.716012    True   \n",
      "3  https://twitter.com/dog_rates/status/891689557...  ...  0.170278   False   \n",
      "4  https://twitter.com/dog_rates/status/891327558...  ...  0.555712    True   \n",
      "\n",
      "                   p2   p2_conf p2_dog                           p3   p3_conf  \\\n",
      "0               bagel  0.085851  False                       banana  0.076110   \n",
      "1            Pekinese  0.090647   True                     papillon  0.068957   \n",
      "2            malamute  0.078253   True                       kelpie  0.031379   \n",
      "3  Labrador_retriever  0.168086   True                      spatula  0.040836   \n",
      "4    English_springer  0.225770   True  German_short-haired_pointer  0.175219   \n",
      "\n",
      "  p3_dog  retweet_count favorite_count  \n",
      "0  False           7446          35287  \n",
      "1   True           5531          30532  \n",
      "2   True           3655          22960  \n",
      "3  False           7618          38569  \n",
      "4   True           8204          36846  \n",
      "\n",
      "[5 rows x 30 columns]\n",
      "<class 'pandas.core.frame.DataFrame'>\n",
      "Int64Index: 1606 entries, 0 to 1605\n",
      "Data columns (total 30 columns):\n",
      " #   Column                      Non-Null Count  Dtype  \n",
      "---  ------                      --------------  -----  \n",
      " 0   tweet_id                    1606 non-null   int64  \n",
      " 1   in_reply_to_status_id       14 non-null     float64\n",
      " 2   in_reply_to_user_id         14 non-null     float64\n",
      " 3   timestamp                   1606 non-null   object \n",
      " 4   source                      1606 non-null   object \n",
      " 5   text                        1606 non-null   object \n",
      " 6   retweeted_status_id         47 non-null     float64\n",
      " 7   retweeted_status_user_id    47 non-null     float64\n",
      " 8   retweeted_status_timestamp  47 non-null     object \n",
      " 9   expanded_urls               1606 non-null   object \n",
      " 10  rating_numerator            1606 non-null   int64  \n",
      " 11  rating_denominator          1606 non-null   int64  \n",
      " 12  name                        1606 non-null   object \n",
      " 13  doggo                       1606 non-null   object \n",
      " 14  floofer                     1606 non-null   object \n",
      " 15  pupper                      1606 non-null   object \n",
      " 16  puppo                       1606 non-null   object \n",
      " 17  jpg_url                     1606 non-null   object \n",
      " 18  img_num                     1606 non-null   int64  \n",
      " 19  p1                          1606 non-null   object \n",
      " 20  p1_conf                     1606 non-null   float64\n",
      " 21  p1_dog                      1606 non-null   bool   \n",
      " 22  p2                          1606 non-null   object \n",
      " 23  p2_conf                     1606 non-null   float64\n",
      " 24  p2_dog                      1606 non-null   bool   \n",
      " 25  p3                          1606 non-null   object \n",
      " 26  p3_conf                     1606 non-null   float64\n",
      " 27  p3_dog                      1606 non-null   bool   \n",
      " 28  retweet_count               1606 non-null   int64  \n",
      " 29  favorite_count              1606 non-null   int64  \n",
      "dtypes: bool(3), float64(7), int64(6), object(14)\n",
      "memory usage: 356.0+ KB\n",
      "None\n"
     ]
    }
   ],
   "source": [
    "#test\n",
    "print(master_clean.head())\n",
    "print(master_clean.info())"
   ]
  },
  {
   "cell_type": "code",
   "execution_count": null,
   "metadata": {},
   "outputs": [],
   "source": [
    "#keep only original dog ratings\n"
   ]
  },
  {
   "cell_type": "code",
   "execution_count": 14,
   "metadata": {},
   "outputs": [],
   "source": [
    "#convert timestamp to date type\n",
    "master_clean['timestamp'] = pd.to_datetime(master_clean.timestamp)"
   ]
  },
  {
   "cell_type": "code",
   "execution_count": 15,
   "metadata": {},
   "outputs": [
    {
     "name": "stdout",
     "output_type": "stream",
     "text": [
      "<class 'pandas.core.frame.DataFrame'>\n",
      "Int64Index: 1606 entries, 0 to 1605\n",
      "Data columns (total 30 columns):\n",
      " #   Column                      Non-Null Count  Dtype              \n",
      "---  ------                      --------------  -----              \n",
      " 0   tweet_id                    1606 non-null   int64              \n",
      " 1   in_reply_to_status_id       14 non-null     float64            \n",
      " 2   in_reply_to_user_id         14 non-null     float64            \n",
      " 3   timestamp                   1606 non-null   datetime64[ns, UTC]\n",
      " 4   source                      1606 non-null   object             \n",
      " 5   text                        1606 non-null   object             \n",
      " 6   retweeted_status_id         47 non-null     float64            \n",
      " 7   retweeted_status_user_id    47 non-null     float64            \n",
      " 8   retweeted_status_timestamp  47 non-null     object             \n",
      " 9   expanded_urls               1606 non-null   object             \n",
      " 10  rating_numerator            1606 non-null   int64              \n",
      " 11  rating_denominator          1606 non-null   int64              \n",
      " 12  name                        1606 non-null   object             \n",
      " 13  doggo                       1606 non-null   object             \n",
      " 14  floofer                     1606 non-null   object             \n",
      " 15  pupper                      1606 non-null   object             \n",
      " 16  puppo                       1606 non-null   object             \n",
      " 17  jpg_url                     1606 non-null   object             \n",
      " 18  img_num                     1606 non-null   int64              \n",
      " 19  p1                          1606 non-null   object             \n",
      " 20  p1_conf                     1606 non-null   float64            \n",
      " 21  p1_dog                      1606 non-null   bool               \n",
      " 22  p2                          1606 non-null   object             \n",
      " 23  p2_conf                     1606 non-null   float64            \n",
      " 24  p2_dog                      1606 non-null   bool               \n",
      " 25  p3                          1606 non-null   object             \n",
      " 26  p3_conf                     1606 non-null   float64            \n",
      " 27  p3_dog                      1606 non-null   bool               \n",
      " 28  retweet_count               1606 non-null   int64              \n",
      " 29  favorite_count              1606 non-null   int64              \n",
      "dtypes: bool(3), datetime64[ns, UTC](1), float64(7), int64(6), object(13)\n",
      "memory usage: 356.0+ KB\n",
      "None\n"
     ]
    }
   ],
   "source": [
    "#test\n",
    "print(master_clean.info())"
   ]
  },
  {
   "cell_type": "code",
   "execution_count": 16,
   "metadata": {},
   "outputs": [
    {
     "name": "stdout",
     "output_type": "stream",
     "text": [
      "               tweet_id  in_reply_to_status_id  in_reply_to_user_id  \\\n",
      "241  835152434251116546                    NaN                  NaN   \n",
      "642  746906459439529985           7.468859e+17         4.196984e+09   \n",
      "\n",
      "                    timestamp  \\\n",
      "241 2017-02-24 15:40:31+00:00   \n",
      "642 2016-06-26 03:22:31+00:00   \n",
      "\n",
      "                                                source  \\\n",
      "241  <a href=\"http://twitter.com/download/iphone\" r...   \n",
      "642  <a href=\"http://twitter.com/download/iphone\" r...   \n",
      "\n",
      "                                                  text  retweeted_status_id  \\\n",
      "241  When you're so blinded by your systematic plag...                  NaN   \n",
      "642  PUPDATE: can't see any. Even if I could, I cou...                  NaN   \n",
      "\n",
      "     retweeted_status_user_id retweeted_status_timestamp  \\\n",
      "241                       NaN                        NaN   \n",
      "642                       NaN                        NaN   \n",
      "\n",
      "                                         expanded_urls  ...   p1_conf  p1_dog  \\\n",
      "241  https://twitter.com/dog_rates/status/835152434...  ...  0.967066   False   \n",
      "642  https://twitter.com/dog_rates/status/746906459...  ...  0.470708   False   \n",
      "\n",
      "                                 p2   p2_conf p2_dog  \\\n",
      "241  American_Staffordshire_terrier  0.012731   True   \n",
      "642                        fountain  0.199776  False   \n",
      "\n",
      "                            p3   p3_conf p3_dog  retweet_count favorite_count  \n",
      "241  Staffordshire_bullterrier  0.007039   True           2906          21891  \n",
      "642              space_shuttle  0.064807  False            286           2832  \n",
      "\n",
      "[2 rows x 30 columns]\n"
     ]
    }
   ],
   "source": [
    "#numerator ratings min value\n",
    "zero_ratings = master_clean.query('rating_numerator == 0')\n",
    "print(zero_ratings)"
   ]
  },
  {
   "cell_type": "code",
   "execution_count": 17,
   "metadata": {},
   "outputs": [
    {
     "name": "stdout",
     "output_type": "stream",
     "text": [
      "12\n"
     ]
    }
   ],
   "source": [
    "#denominator different than 10\n",
    "non_standard_denominator = master_clean.query('rating_denominator != 10')\n",
    "print(non_standard_denominator['rating_denominator'].count())"
   ]
  },
  {
   "cell_type": "code",
   "execution_count": 18,
   "metadata": {},
   "outputs": [],
   "source": [
    "#standard denominator 10\n",
    "master_clean ['rating_numerator']= master_clean['rating_numerator']*10/master_clean['rating_denominator']\n",
    "master_clean ['rating_denominator']= master_clean['rating_denominator']*10/master_clean['rating_denominator']"
   ]
  },
  {
   "cell_type": "code",
   "execution_count": 19,
   "metadata": {},
   "outputs": [
    {
     "name": "stdout",
     "output_type": "stream",
     "text": [
      "0\n"
     ]
    }
   ],
   "source": [
    "#test\n",
    "non_standard_denominator = master_clean.query('rating_denominator != 10')\n",
    "print(non_standard_denominator['rating_denominator'].count())"
   ]
  },
  {
   "cell_type": "code",
   "execution_count": 20,
   "metadata": {},
   "outputs": [
    {
     "name": "stdout",
     "output_type": "stream",
     "text": [
      "                tweet_id                                      expanded_urls  \\\n",
      "426   778027034220126208  https://twitter.com/dog_rates/status/778027034...   \n",
      "612   749981277374128128  https://twitter.com/dog_rates/status/749981277...   \n",
      "1328  670842764863651840  https://twitter.com/dog_rates/status/670842764...   \n",
      "\n",
      "      rating_numerator  rating_denominator     name  retweet_count  \\\n",
      "426               27.0                10.0   Sophie           1576   \n",
      "612             1776.0                10.0  Atticus           2399   \n",
      "1328             420.0                10.0     None           8036   \n",
      "\n",
      "      favorite_count  \n",
      "426             6477  \n",
      "612             4993  \n",
      "1328           23114  \n"
     ]
    }
   ],
   "source": [
    "#numerator ratings max value\n",
    "high_ratings = master_clean.query('rating_numerator > 15')\n",
    "print(high_ratings[['tweet_id', 'expanded_urls', 'rating_numerator', 'rating_denominator', 'name', 'retweet_count', 'favorite_count']])\n",
    "\n",
    "master_clean = master_clean.query('rating_numerator < 15')"
   ]
  },
  {
   "cell_type": "code",
   "execution_count": 21,
   "metadata": {},
   "outputs": [
    {
     "name": "stdout",
     "output_type": "stream",
     "text": [
      "14.0\n",
      "       rating_numerator  rating_denominator\n",
      "count       1602.000000              1602.0\n",
      "mean          10.574396                10.0\n",
      "std            2.211033                 0.0\n",
      "min            0.000000                10.0\n",
      "25%           10.000000                10.0\n",
      "50%           11.000000                10.0\n",
      "75%           12.000000                10.0\n",
      "max           14.000000                10.0\n"
     ]
    }
   ],
   "source": [
    "#test\n",
    "print(master_clean.rating_numerator.max())\n",
    "print(master_clean.describe()[['rating_numerator', 'rating_denominator']])"
   ]
  },
  {
   "cell_type": "code",
   "execution_count": 22,
   "metadata": {},
   "outputs": [
    {
     "name": "stdout",
     "output_type": "stream",
     "text": [
      "Twitter for iPhone    1567\n",
      "Twitter Web Client      29\n",
      "TweetDeck                6\n",
      "Name: source, dtype: int64\n"
     ]
    }
   ],
   "source": [
    "#extract source from link in source column\n",
    "source = []\n",
    "for s in master_clean.source:\n",
    "    source_split = s.split('>')[-2].split('<')[-2]\n",
    "    source.append(source_split)\n",
    "\n",
    "master_clean['source'] = source\n",
    "print(master_clean.source.value_counts())"
   ]
  },
  {
   "cell_type": "code",
   "execution_count": 23,
   "metadata": {},
   "outputs": [
    {
     "name": "stdout",
     "output_type": "stream",
     "text": [
      "0    Twitter for iPhone\n",
      "1    Twitter for iPhone\n",
      "2    Twitter for iPhone\n",
      "3    Twitter for iPhone\n",
      "4    Twitter for iPhone\n",
      "Name: source, dtype: object\n"
     ]
    }
   ],
   "source": [
    "#test\n",
    "print(master_clean.source.head())"
   ]
  },
  {
   "cell_type": "code",
   "execution_count": 24,
   "metadata": {},
   "outputs": [],
   "source": [
    "#dog stage column\n",
    "master_clean['dog_stage'] = master_clean.doggo\n",
    "\n",
    "master_clean.loc[master_clean['doggo']=='doggo', 'dog_stage'] = 'doggo'\n",
    "master_clean.loc[master_clean['puppo']=='puppo', 'dog_stage'] = 'puppo'\n",
    "master_clean.loc[master_clean['floofer']=='floofer', 'dog_stage'] = 'floofer'\n",
    "master_clean.loc[master_clean['pupper']=='pupper', 'dog_stage'] = 'pupper'"
   ]
  },
  {
   "cell_type": "code",
   "execution_count": 25,
   "metadata": {},
   "outputs": [
    {
     "name": "stdout",
     "output_type": "stream",
     "text": [
      "None       1362\n",
      "pupper      158\n",
      "doggo        57\n",
      "puppo        19\n",
      "floofer       6\n",
      "Name: dog_stage, dtype: int64\n"
     ]
    }
   ],
   "source": [
    "#test\n",
    "print(master_clean.dog_stage.value_counts())"
   ]
  },
  {
   "cell_type": "code",
   "execution_count": 26,
   "metadata": {},
   "outputs": [],
   "source": [
    "#extended urls column with duplicated information\n",
    "#check for duplicated fields\n",
    "count = 0\n",
    "for url in master_clean.expanded_urls:\n",
    "    if len(url.split(',')) > 1:\n",
    "        if url.split(',')[1] != url.split(',') [-1]:\n",
    "            count += 1\n",
    "            print(count)\n",
    "            print(False)\n",
    "            print(url)"
   ]
  },
  {
   "cell_type": "code",
   "execution_count": 27,
   "metadata": {},
   "outputs": [],
   "source": [
    "#split into one entry\n",
    "urls = []\n",
    "for url in master_clean.expanded_urls:\n",
    "    if len(url.split(',')) > 1:\n",
    "        urls.append(url.split(',')[-1])\n",
    "    else:\n",
    "        urls.append(url)"
   ]
  },
  {
   "cell_type": "code",
   "execution_count": 28,
   "metadata": {},
   "outputs": [
    {
     "name": "stdout",
     "output_type": "stream",
     "text": [
      "['https://twitter.com/dog_rates/status/892420643555336193/photo/1', 'https://twitter.com/dog_rates/status/892177421306343426/photo/1', 'https://twitter.com/dog_rates/status/891815181378084864/photo/1', 'https://twitter.com/dog_rates/status/891689557279858688/photo/1', 'https://twitter.com/dog_rates/status/891327558926688256/photo/1']\n"
     ]
    }
   ],
   "source": [
    "#test\n",
    "print(urls[0:5])"
   ]
  },
  {
   "cell_type": "code",
   "execution_count": 29,
   "metadata": {},
   "outputs": [
    {
     "name": "stdout",
     "output_type": "stream",
     "text": [
      "None       428\n",
      "a           48\n",
      "Oliver       9\n",
      "Charlie      9\n",
      "Tucker       8\n",
      "Name: name, dtype: int64\n",
      "50      Here is a pupper approaching maximum borkdrive...\n",
      "459     Guys this is getting so out of hand. We only r...\n",
      "632     This is a mighty rare blue-tailed hammer sherk...\n",
      "634     Viewer discretion is advised. This is a terrib...\n",
      "643     This is a carrot. We only rate dogs. Please on...\n",
      "669     This is a very rare Great Alaskan Bush Pupper....\n",
      "805     People please. This is a Deadly Mediterranean ...\n",
      "815     This is a taco. We only rate dogs. Please only...\n",
      "932     Here is a heartbreaking scene of an incredible...\n",
      "941     Here is a whole flock of puppers.  60/50 I'll ...\n",
      "951     This is a Butternut Cumberfloof. It's not wind...\n",
      "957     This is a Wild Tuscan Poofwiggle. Careful not ...\n",
      "969     \"Pupper is a present to world. Here is a bow f...\n",
      "1072    This is a rare Arctic Wubberfloof. Unamused by...\n",
      "1179    This is a Sagitariot Baklava mix. Loves her ne...\n",
      "1196    This is a heavily opinionated dog. Loves walls...\n",
      "1210    This is a Lofted Aphrodisiac Terrier named Kip...\n",
      "1249    This is a baby Rand Paul. Curls for days. 11/1...\n",
      "1289    This is a Tuscaloosa Alcatraz named Jacob (Yac...\n",
      "1320    This is a Helvetica Listerine named Rufus. Thi...\n",
      "1370    This is a Deciduous Trimester mix named Spork....\n",
      "1379    This is a Rich Mahogany Seltzer named Cherokee...\n",
      "1382    This is a Speckled Cauliflower Yosemite named ...\n",
      "1400    This is a spotted Lipitor Rumpelstiltskin name...\n",
      "1406    This is a brave dog. Excellent free climber. T...\n",
      "1414    This is a Coriander Baton Rouge named Alfredo....\n",
      "1443    This is a Slovakian Helter Skelter Feta named ...\n",
      "1450    This is a wild Toblerone from Papua New Guinea...\n",
      "1463    Here is a horned dog. Much grace. Can jump ove...\n",
      "1469    This is a Birmingham Quagmire named Chuk. Love...\n",
      "1473    Here is a mother dog caring for her pups. Snaz...\n",
      "1486    This is a Trans Siberian Kellogg named Alfonso...\n",
      "1500    This is a Shotokon Macadamia mix named Cheryl....\n",
      "1506    This is a rare Hungarian Pinot named Jessiga. ...\n",
      "1515    This is a southwest Coriander named Klint. Hat...\n",
      "1524    This is a northern Wahoo named Kohl. He runs t...\n",
      "1538    This is a Dasani Kingfisher from Maine. His na...\n",
      "1554    This is a curly Ticonderoga named Pepe. No fee...\n",
      "1561    This is a purebred Bacardi named Octaviath. Ca...\n",
      "1564    This is a golden Buckminsterfullerene named Jo...\n",
      "1577    This is a southern Vesuvius bumblegruff. Can d...\n",
      "1584    This is a funny dog. Weird toes. Won't come do...\n",
      "1597    My oh my. This is a rare blond Canadian terrie...\n",
      "1598    Here is a Siberian heavily armored polar bear ...\n",
      "1600    This is a truly beautiful English Wilson Staff...\n",
      "1602    This is a purebred Piers Morgan. Loves to Netf...\n",
      "1603    Here is a very happy pup. Big fan of well-main...\n",
      "1604    This is a western brown Mitsubishi terrier. Up...\n",
      "Name: text, dtype: object\n"
     ]
    }
   ],
   "source": [
    "#dog names duplicated values\n",
    "print(master_clean.name.value_counts().head())\n",
    "print(master_clean[master_clean.name == \"a\"]['text'])"
   ]
  },
  {
   "cell_type": "code",
   "execution_count": 30,
   "metadata": {},
   "outputs": [
    {
     "name": "stdout",
     "output_type": "stream",
     "text": [
      "      rating_numerator          name  retweet_count  favorite_count  \\\n",
      "24                12.0          None           5262           28090   \n",
      "53                12.0          None           3378           19513   \n",
      "79                12.0          None           3544           20937   \n",
      "104               12.0          None           3775           22502   \n",
      "108               13.0          None           7128           29914   \n",
      "115               14.0          None           7895           30060   \n",
      "126               13.0          None          21130           69262   \n",
      "138               12.0         quite          27727           84329   \n",
      "175               12.0          None           7190           29223   \n",
      "179               12.0          None           4120           24297   \n",
      "194               12.0          None           4606           24425   \n",
      "240               12.0          None           5589           25635   \n",
      "301               11.0          None           2553           13088   \n",
      "318               11.0          None           9676               0   \n",
      "323               12.0          None           2892           14624   \n",
      "326               11.0          None           9676           34534   \n",
      "402               12.0          None           5469           20567   \n",
      "413               11.0          None           2201            8607   \n",
      "422               10.0            an          12005               0   \n",
      "459               10.0             a           1667            6389   \n",
      "474               11.0          very           1740            7232   \n",
      "532               10.0          None           5498           14427   \n",
      "643               11.0             a           2069            5830   \n",
      "654                9.0          very           2344            8354   \n",
      "689               10.0       getting           1899            6496   \n",
      "694               10.0          None          20437           38313   \n",
      "706               11.0          None           1266            4876   \n",
      "712               10.0          very           2684            7849   \n",
      "717               11.0          None           4829           12624   \n",
      "735                9.0  unacceptable           1907            5956   \n",
      "763                9.0          None           1100            4283   \n",
      "805               11.0             a           1772            5593   \n",
      "815               10.0             a           1626            4514   \n",
      "838               10.0          None           4771           11910   \n",
      "888               11.0          None            824            3277   \n",
      "952               10.0            an          12005           25513   \n",
      "972               11.0          very           8945           22126   \n",
      "1019               8.0       getting            971            3200   \n",
      "1096               9.0           the            846            2587   \n",
      "1130              10.0          None            745            2744   \n",
      "1168               9.0          None           1111            2929   \n",
      "1194               3.0          None           1529            2980   \n",
      "\n",
      "                                                   text  \n",
      "24    This... is a Jubilant Antarctic House Bear. We...  \n",
      "53    Ugh not again. We only rate dogs. Please don't...  \n",
      "79    I can't believe this keeps happening. This, is...  \n",
      "104   Unbelievable. We only rate dogs. Please don't ...  \n",
      "108   Oh my this spooked me up. We only rate dogs, n...  \n",
      "115   We only rate dogs. Please don't send in Jesus....  \n",
      "126   We only rate dogs. Please don't send perfectly...  \n",
      "138   We only rate dogs. This is quite clearly a smo...  \n",
      "175   Seriously guys? Again? We only rate dogs. Plea...  \n",
      "179   Please stop sending in animals other than dogs...  \n",
      "194   C'mon guys. Please only send in dogs. We only ...  \n",
      "240   We only rate dogs. Please don't send in any no...  \n",
      "301   We only rate dogs. Please don't send in any mo...  \n",
      "318   RT @dog_rates: We only rate dogs. Please don't...  \n",
      "323   Please stop sending in non-canines like this V...  \n",
      "326   We only rate dogs. Please don't send pics of m...  \n",
      "402   Idk why this keeps happening. We only rate dog...  \n",
      "413   We only rate dogs. Pls stop sending in non-can...  \n",
      "422   RT @dog_rates: This is an East African Chalupa...  \n",
      "459   Guys this is getting so out of hand. We only r...  \n",
      "474   We only rate dogs. Pls stop sending in non-can...  \n",
      "532   We only rate dogs... this is a Taiwanese Guide...  \n",
      "643   This is a carrot. We only rate dogs. Please on...  \n",
      "654   We only rate dogs. Pls stop sending in non-can...  \n",
      "689   This is getting incredibly frustrating. This i...  \n",
      "694   This... is a Tyrannosaurus rex. We only rate d...  \n",
      "706   We only rate dogs. Pls stop sending in non-can...  \n",
      "712   We only rate dogs. Please stop sending in non-...  \n",
      "717   We only rate dogs. Please stop sending in your...  \n",
      "735   We only rate dogs. Pls stop sending non-canine...  \n",
      "763   I'm getting super heckin frustrated with you a...  \n",
      "805   People please. This is a Deadly Mediterranean ...  \n",
      "815   This is a taco. We only rate dogs. Please only...  \n",
      "838   Please don't send in any more polar bears. We ...  \n",
      "888   Please stop sending in non canines like this G...  \n",
      "952   This is an East African Chalupa Seal. We only ...  \n",
      "972   We only rate dogs. Pls stop sending in non-can...  \n",
      "1019  Please stop sending in saber-toothed tigers. T...  \n",
      "1096  Stop sending in lobsters. This is the final wa...  \n",
      "1130  Please send dogs. I'm tired of seeing other st...  \n",
      "1168  For the last time, WE. DO. NOT. RATE. BULBASAU...  \n",
      "1194  Guys I'm getting real tired of this. We only r...  \n"
     ]
    }
   ],
   "source": [
    "#identify text with \"We only rate dogs.\" comment\n",
    "only_dogs = master_clean[master_clean['text'].str.contains('We only rate dogs.')]\n",
    "print(only_dogs[['rating_numerator', 'name', 'retweet_count', 'favorite_count', 'text']])"
   ]
  },
  {
   "cell_type": "code",
   "execution_count": 31,
   "metadata": {},
   "outputs": [],
   "source": [
    "#drop rows without dogs\n",
    "master_clean = master_clean[~master_clean.text.str.contains('We only rate dogs.')]"
   ]
  },
  {
   "cell_type": "code",
   "execution_count": 32,
   "metadata": {},
   "outputs": [
    {
     "name": "stdout",
     "output_type": "stream",
     "text": [
      "Empty DataFrame\n",
      "Columns: [rating_numerator, name, retweet_count, favorite_count, text]\n",
      "Index: []\n"
     ]
    }
   ],
   "source": [
    "#test\n",
    "only_dogs = master_clean[master_clean['text'].str.contains('We only rate dogs.')]\n",
    "print(only_dogs[['rating_numerator', 'name', 'retweet_count', 'favorite_count', 'text']])"
   ]
  },
  {
   "cell_type": "code",
   "execution_count": 33,
   "metadata": {},
   "outputs": [
    {
     "name": "stdout",
     "output_type": "stream",
     "text": [
      "RT @dog_rates: This is Lilly. She just parallel barked. Kindly requests a reward now. 13/10 would pet so well https://t.co/SATN4If5H5\n",
      "RT @rachel2195: @dog_rates the boyfriend and his soaking wet pupper h*cking love his new hat 14/10 https://t.co/dJx4Gzc50G\n",
      "RT @rachaeleasler: these @dog_rates hats are 13/10 bean approved https://t.co/nRCdq4g9gG\n",
      "RT @tallylott: h*ckin adorable promposal. 13/10 @dog_rates https://t.co/6n8hzNihJ9\n",
      "RT @eddie_coe98: Thanks @dog_rates completed my laptop. 10/10 would buy again https://t.co/bO0rThDlXI\n",
      "RT @basic_vacek_: I love my new mug easy 13/10 @dog_rates https://t.co/0bYtoL7Wwt\n",
      "RT @dog_rates: This is Ken. His cheeks are magic. 13/10 (IG: ken_shiba) https://t.co/btzf1zTDeQ\n",
      "RT @alexmartindawg: THE DRINK IS DR. PUPPER 10/10 good pun @matt___nelson @GoodDogsGame https://t.co/act3duiqbL\n",
      "RT @EmilieGambril: 12/10 h*cking excited about my new shirt! @dog_rates https://t.co/zFEfMTaHqU\n",
      "RT @dog_rates: This is Moreton. He's the Good Boy Who Lived. 13/10 magical as h*ck https://t.co/rLHGx3VAF3\n",
      "RT @dog_rates: This is Klein. These pics were taken a month apart. He knows he's a stud now. 12/10 total heartthrob https://t.co/guDkLrX8zV\n",
      "RT @dog_rates: This is Loki. He smiles like Elvis. Ain't nothin but a hound doggo. 12/10 https://t.co/QV5nx6otZR\n",
      "RT @dog_rates: This is Bailey. She loves going down slides but is very bad at it. Still 11/10 https://t.co/ivPWhspN3E\n",
      "RT @dog_rates: This is Paisley. She really wanted to be president this time. Dreams officially crushed. 13/10 https://t.co/liJGwMp17E\n",
      "RT @dog_rates: Meet Hercules. He can have whatever he wants for the rest of eternity. 12/10 would snug passionately https://t.co/mH0IOyFdIG\n",
      "RT @dog_rates: This is Peaches. She's the ultimate selfie sidekick. Super sneaky tongue slip appreciated. 13/10 https://t.co/pbKOesr8Tg\n",
      "RT @dog_rates: This is Bo. He was a very good First Doggo. 14/10 would be an absolute honor to pet https://t.co/AdPKrI8BZ1\n",
      "RT @dog_rates: This is Sunny. She was also a very good First Doggo. 14/10 would also be an absolute honor to pet https://t.co/YOC1fHFCSb\n",
      "RT @dog_rates: This is Chelsea. She forgot how to dog. 11/10 get it together pupper https://t.co/nBJ5RE4yHb\n",
      "RT @dog_rates: Here's a pupper with squeaky hiccups. Please enjoy. 13/10 https://t.co/MiMKtsLN6k\n",
      "RT @dog_rates: This is Betty. She's assisting with the dishes. Such a good puppo. 12/10 h*ckin helpful af https://t.co/dgvTPZ9tgI\n",
      "RT @dog_rates: This is Larry. He has no self control. Tongue still nifty af tho 11/10 https://t.co/ghyT4Ubk1r\n",
      "RT @dog_rates: This is Bruce. He never backs down from a challenge. 11/10 you got this Bruce https://t.co/aI7umZHIq7\n",
      "RT @dog_rates: This is Kenny. He just wants to be included in the happenings. 11/10 https://t.co/2S6oye3XqK\n",
      "RT @dog_rates: This is Harper. She scraped her elbow attempting a backflip off a tree. Valiant effort tho. 12/10 https://t.co/oHKJHghrp5\n",
      "RT @dog_rates: This is Bell. She likes holding hands. 12/10 would definitely pet with other hand https://t.co/BXIuvkQO9b\n",
      "RT @Patreon: Well. @dog_rates is on Patreon. \n",
      "\n",
      "12/10. \n",
      "\n",
      "https://t.co/rnKvzt6RJs https://t.co/v4e2ywe8iO\n",
      "RT @dog_rates: This is Arnie. He's a Nova Scotian Fridge Floof. Rare af. 12/10 https://t.co/lprdOylVpS\n",
      "RT @dog_rates: Everybody look at this beautiful pupper 13/10 https://t.co/hyAC5Hq9GC\n",
      "RT @dog_rates: Like father (doggo), like son (pupper). Both 12/10 https://t.co/pG2inLaOda\n",
      "RT @dog_rates: This is Gromit. He's pupset because there's no need to beware of him. Just wants a pettin. 10/10 https://t.co/eSvz4EapHH\n",
      "RT @dog_rates: This is Frankie. He's wearing blush. 11/10 really accents the cheek bones https://t.co/iJABMhVidf\n",
      "RT @dog_rates: This is just downright precious af. 12/10 for both pupper and doggo https://t.co/o5J479bZUC\n",
      "RT @dog_rates: This is Colby. He's currently regretting all those times he shook your hand for an extra treat. 12/10 https://t.co/vtVHtKFtBH\n",
      "RT @dog_rates: \"Tristan do not speak to me with that kind of tone or I will take away the Xbox.\" 10/10 https://t.co/VGPH0TfESw\n",
      "RT @dog_rates: Oh. My. God. 13/10 magical af https://t.co/Ezu6jQrKAZ\n",
      "RT @dog_rates: AT DAWN...\n",
      "WE RIDE\n",
      "\n",
      "11/10 https://t.co/QnfO7HEQGA\n",
      "RT @dog_rates: This is Chompsky. He lives up to his name. 11/10 https://t.co/Xl37lQEWd0\n",
      "RT @jon_hill987: @dog_rates There is a cunningly disguised pupper here mate! 11/10 at least. https://t.co/7boff8zojZ\n",
      "RT @dog_rates: This is Rubio. He has too much skin. 11/10 https://t.co/NLOHmlENag\n",
      "RT @dog_rates: Everyone needs to watch this. 13/10 https://t.co/Bb3xnpsWBC\n",
      "RT @twitter: @dog_rates Awesome Tweet! 12/10. Would Retweet. #LoveTwitter https://t.co/j6FQGhxYuN\n",
      "RT @dogratingrating: Exceptional talent. Original humor. Cutting edge, Nova Scotian comedian. 12/10 https://t.co/uarnTjBeVA\n",
      "RT @dogratingrating: Unoriginal idea. Blatant plagiarism. Curious grammar. -5/10 https://t.co/r7XzeQZWzb\n"
     ]
    }
   ],
   "source": [
    "#zero favorites fields\n",
    "zero_fav = master_clean.query('favorite_count == 0')\n",
    "for i in zero_fav.text:\n",
    "    print(i)"
   ]
  },
  {
   "cell_type": "code",
   "execution_count": 34,
   "metadata": {},
   "outputs": [
    {
     "name": "stdout",
     "output_type": "stream",
     "text": [
      "Empty DataFrame\n",
      "Columns: [tweet_id, in_reply_to_status_id, in_reply_to_user_id, timestamp, source, text, retweeted_status_id, retweeted_status_user_id, retweeted_status_timestamp, expanded_urls, rating_numerator, rating_denominator, name, doggo, floofer, pupper, puppo, jpg_url, img_num, p1, p1_conf, p1_dog, p2, p2_conf, p2_dog, p3, p3_conf, p3_dog, retweet_count, favorite_count, dog_stage]\n",
      "Index: []\n",
      "\n",
      "[0 rows x 31 columns]\n"
     ]
    }
   ],
   "source": [
    "#zero retweet fields\n",
    "zero_rt = master_clean.query('retweet_count == 0')\n",
    "print(zero_rt)"
   ]
  },
  {
   "cell_type": "code",
   "execution_count": 35,
   "metadata": {},
   "outputs": [],
   "source": [
    "#save master clean to csv file\n",
    "master_clean.to_csv('twitter_archive_master.csv')"
   ]
  },
  {
   "cell_type": "code",
   "execution_count": 36,
   "metadata": {},
   "outputs": [
    {
     "data": {
      "image/png": "[encoded data removed]",
      "text/plain": [
       "<Figure size 432x288 with 2 Axes>"
      ]
     },
     "metadata": {
      "needs_background": "light"
     },
     "output_type": "display_data"
    }
   ],
   "source": [
    "#data exploration\n",
    "# correlation matrix\n",
    "numeric_vars = ['rating_numerator', 'p1_conf', 'p2_conf', 'p3_conf', 'retweet_count', 'favorite_count']\n",
    "\n",
    "sb.heatmap(master_clean[numeric_vars].corr(), annot = True, fmt = '.2f',\n",
    "           cmap = 'vlag_r', linewidths=.5 )\n",
    "plt.title('Correlation matrix')\n",
    "plt.xticks(fontsize=7, rotation=0)\n",
    "plt.yticks(fontsize=7)\n",
    "plt.show()"
   ]
  },
  {
   "cell_type": "code",
   "execution_count": 37,
   "metadata": {},
   "outputs": [
    {
     "data": {
      "image/png": "[encoded data removed]",
      "text/plain": [
       "<Figure size 432x288 with 1 Axes>"
      ]
     },
     "metadata": {
      "needs_background": "light"
     },
     "output_type": "display_data"
    }
   ],
   "source": [
    "#rating univariate exploration\n",
    "plt.hist(data = master_clean, x ='rating_numerator')\n",
    "plt.title('Ratings histogram')\n",
    "plt.xlabel('Rating')\n",
    "plt.ylabel('Count')\n",
    "plt.show()"
   ]
  },
  {
   "cell_type": "code",
   "execution_count": 38,
   "metadata": {},
   "outputs": [
    {
     "data": {
      "image/png": "[encoded data removed]",
      "text/plain": [
       "<Figure size 432x288 with 1 Axes>"
      ]
     },
     "metadata": {
      "needs_background": "light"
     },
     "output_type": "display_data"
    }
   ],
   "source": [
    "#favorite counts univariate exploration\n",
    "plt.hist(data = master_clean, x ='favorite_count')\n",
    "plt.title('Favorites histogram')\n",
    "plt.xlabel('Favorites')\n",
    "plt.ylabel('Count')\n",
    "plt.show()"
   ]
  },
  {
   "cell_type": "code",
   "execution_count": 39,
   "metadata": {},
   "outputs": [
    {
     "data": {
      "image/png": "[encoded data removed]",
      "text/plain": [
       "<Figure size 432x288 with 1 Axes>"
      ]
     },
     "metadata": {
      "needs_background": "light"
     },
     "output_type": "display_data"
    }
   ],
   "source": [
    "#retweet counts univariate exploration\n",
    "plt.hist(data = master_clean, x ='retweet_count')\n",
    "plt.title('Retweets histogram')\n",
    "plt.xlabel('Retweets')\n",
    "plt.ylabel('Count')\n",
    "plt.show()"
   ]
  },
  {
   "cell_type": "code",
   "execution_count": 40,
   "metadata": {},
   "outputs": [
    {
     "data": {
      "image/png": "[encoded data removed]",
      "text/plain": [
       "<Figure size 486x324 with 12 Axes>"
      ]
     },
     "metadata": {
      "needs_background": "light"
     },
     "output_type": "display_data"
    }
   ],
   "source": [
    "#ratings, retweets and favorites scatterplot\n",
    "scatter_vars = ['rating_numerator', 'favorite_count', 'retweet_count']\n",
    "\n",
    "g = sb.PairGrid(data = master_clean, vars = scatter_vars, height = 1.5, aspect = 1.5)\n",
    "g = g.map_diag(plt.hist);\n",
    "g.map_offdiag(sb.regplot, scatter_kws={'alpha':0.15})\n",
    "plt.subplots_adjust(top=0.9)\n",
    "plt.suptitle(\"Scatterplot grid\")\n",
    "plt.show()"
   ]
  },
  {
   "cell_type": "code",
   "execution_count": 41,
   "metadata": {},
   "outputs": [],
   "source": [
    "#ratings by dog breed\n",
    "breeds = master_clean.groupby('p1').agg(count=('rating_numerator', 'size'), mean_rating=('rating_numerator', 'mean')).reset_index()\n",
    "breeds = breeds.sort_values('count', ascending=False)"
   ]
  },
  {
   "cell_type": "code",
   "execution_count": 42,
   "metadata": {},
   "outputs": [
    {
     "data": {
      "image/png": "[encoded data removed]",
      "text/plain": [
       "<Figure size 432x288 with 1 Axes>"
      ]
     },
     "metadata": {
      "needs_background": "light"
     },
     "output_type": "display_data"
    }
   ],
   "source": [
    "#plot top ten count breeds\n",
    "breeds_top_ten = breeds.iloc[0:10,:]\n",
    "\n",
    "base_color = sb.color_palette()[0]\n",
    "sb.barplot(y='mean_rating', x='p1', data=breeds_top_ten, color = base_color)\n",
    "plt.xticks(rotation=30, size=8)  # Set text labels.\n",
    "plt.ylim(0, 15)\n",
    "plt.title('Breeds mean rating')\n",
    "plt.xlabel('Breed')\n",
    "plt.ylabel('Mean rating')\n",
    "plt.show()"
   ]
  },
  {
   "cell_type": "code",
   "execution_count": 43,
   "metadata": {},
   "outputs": [],
   "source": [
    "#ratings, favorites and retweets\n",
    "#three variable heatmap\n",
    "#create bins\n",
    "master_clean['favorites_bin'] = pd.qcut(master_clean['favorite_count'], 10)\n",
    "master_clean['retweets_bin'] = pd.qcut(master_clean['retweet_count'], 10)"
   ]
  },
  {
   "cell_type": "code",
   "execution_count": 44,
   "metadata": {},
   "outputs": [
    {
     "data": {
      "image/png": "[encoded data removed]",
      "text/plain": [
       "<Figure size 432x288 with 2 Axes>"
      ]
     },
     "metadata": {
      "needs_background": "light"
     },
     "output_type": "display_data"
    }
   ],
   "source": [
    "#plot\n",
    "master_clean.drop_duplicates(['favorites_bin','retweets_bin'], inplace=True)\n",
    "data_pivoted = master_clean.pivot('favorites_bin', 'retweets_bin', 'rating_numerator')\n",
    "ax = sb.heatmap(data_pivoted, cmap=\"Blues\", linewidths=.5)\n",
    "plt.title('Ratings by favorites and retweets')\n",
    "ax.invert_yaxis()\n",
    "plt.yticks(size=6)\n",
    "plt.xticks(np.arange(10), ['0-0.4', '0.4-0.9', '0.9-1.8', '1.8-2.6', '2.6-3.4', '3.4-4.8', '4.8-7.4', '7.4-12.5', '12.5-20', '20-150'])  # Set text labels.\n",
    "plt.xticks(rotation=30, size=6)\n",
    "plt.yticks(np.arange(10), ['0-0.2', '0.2-0.4', '0.4-0.6', '0.6-0.8', '0.8-1.1', '1.1-1.6', '1.6-2.2', '2.2-3.3', '3.3-5.5', '5.5-7.6'])  # Set text labels.\n",
    "plt.xlabel('Favorites (x1000)', size = 10)\n",
    "plt.ylabel('Retweets( x1000)', size = 10)\n",
    "plt.show()"
   ]
  },
  {
   "cell_type": "code",
   "execution_count": null,
   "metadata": {},
   "outputs": [],
   "source": []
  }
 ],
 "metadata": {
  "kernelspec": {
   "display_name": "Python 3",
   "language": "python",
   "name": "python3"
  },
  "language_info": {
   "codemirror_mode": {
    "name": "ipython",
    "version": 3
   },
   "file_extension": ".py",
   "mimetype": "text/x-python",
   "name": "python",
   "nbconvert_exporter": "python",
   "pygments_lexer": "ipython3",
   "version": "3.8.3"
  }
 },
 "nbformat": 4,
 "nbformat_minor": 4
}
